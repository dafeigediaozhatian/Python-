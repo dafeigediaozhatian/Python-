{
 "cells": [
  {
   "cell_type": "markdown",
   "metadata": {},
   "source": [
    "## 课程3：控制流\n",
    "知识点：\n",
    "- 条件语句\n",
    "- 布尔表达式\n",
    "- For 和 While 循环\n",
    "- Break 和 Continue\n",
    "- Zip 和 Enumerate\n",
    "- 列表推导式"
   ]
  },
  {
   "cell_type": "markdown",
   "metadata": {},
   "source": [
    "## 1.条件语句\n",
    "if 语句是是一种条件语句，根据条件为 true 还是 false 运行或执行相关代码。\n",
    "\n",
    "**if：if 语句必须始终以 if 条件开始，其中包含第一个要检查的条件;**\n",
    "\n",
    "**elif：elif 条件用来检查其他条件（前提是 if 语句中之前的条件结果为 False）**\n",
    "\n",
    "**else：最后是 else 条件，它必须位于 if 语句的末尾。该条件语句不需要条件**"
   ]
  },
  {
   "cell_type": "markdown",
   "metadata": {},
   "source": [
    "### 1.1使用方法\n",
    "if + 条件语句（True or False）+ ‘：’\n",
    "缩进两格：相关代码块"
   ]
  },
  {
   "cell_type": "code",
   "execution_count": 2,
   "metadata": {},
   "outputs": [
    {
     "name": "stdout",
     "output_type": "stream",
     "text": [
      "Congratulations! You won a wafer-thin mint!\n"
     ]
    }
   ],
   "source": [
    "points = 174\n",
    "\n",
    "if points <= 50:\n",
    "    result = \"Congratulations! You won a wooden rabbit!\"\n",
    "elif points <= 150:\n",
    "    result = \"Oh dear, no prize this time.\"\n",
    "elif points <= 180:\n",
    "    result = \"Congratulations! You won a wafer-thin mint!\"\n",
    "else:\n",
    "    result = \"Congratulations! You won a penguin!\"\n",
    "\n",
    "print(result)"
   ]
  },
  {
   "cell_type": "markdown",
   "metadata": {},
   "source": [
    "### 1.2 除了布尔判断结果为False，其他还有什么情况会出现False？\n",
    "\n",
    "- 定义为 false 的常量：None 和 False\n",
    "- 任何数字类型的零：0、0.0、0j、Decimal(0)、Fraction(0, 1)\n",
    "- 空序列和空集合：””、()、[]、{}、set()、range(0)"
   ]
  },
  {
   "cell_type": "code",
   "execution_count": 11,
   "metadata": {},
   "outputs": [
    {
     "name": "stdout",
     "output_type": "stream",
     "text": [
      "The first: no output\n",
      "****************************************\n",
      "The second: no output\n",
      "****************************************\n",
      "The third: no output\n",
      "****************************************\n",
      "The fourth: no output\n"
     ]
    }
   ],
   "source": [
    "if False:\n",
    "    print('flyingbird')\n",
    "else:\n",
    "    print('The first: no output')\n",
    "print('*' * 40)\n",
    "\n",
    "if 0:\n",
    "    print('flyingbird')\n",
    "else:\n",
    "    print('The second: no output')\n",
    "print('*' * 40)\n",
    "\n",
    "if None:\n",
    "    print('flyingbird')\n",
    "else:\n",
    "    print('The third: no output')\n",
    "print('*' * 40)\n",
    "\n",
    "if []:\n",
    "    print('flyingbird')\n",
    "else:\n",
    "    print('The fourth: no output')"
   ]
  },
  {
   "cell_type": "markdown",
   "metadata": {},
   "source": [
    "## 2.布尔表达式\n",
    "If 语句有时候会使用更加复杂的条件布尔表达式。可能包括多个比较运算符、逻辑运算符，甚至包括算式。\n",
    "\n",
    "对于非常复杂的条件，你可能需要结合使用 and、or 和 not。使用括号可以使运算符组合更清晰。\n"
   ]
  },
  {
   "cell_type": "markdown",
   "metadata": {},
   "source": [
    "### 2.1 复杂的布尔表达式"
   ]
  },
  {
   "cell_type": "code",
   "execution_count": 12,
   "metadata": {
    "collapsed": true
   },
   "outputs": [
    {
     "ename": "NameError",
     "evalue": "name 'weight' is not defined",
     "output_type": "error",
     "traceback": [
      "\u001b[1;31m---------------------------------------------------------------------------\u001b[0m",
      "\u001b[1;31mNameError\u001b[0m                                 Traceback (most recent call last)",
      "\u001b[1;32m<ipython-input-12-5559c637c7f7>\u001b[0m in \u001b[0;36m<module>\u001b[1;34m()\u001b[0m\n\u001b[0;32m      1\u001b[0m \u001b[1;31m# 复杂的布尔表达式\u001b[0m\u001b[1;33m\u001b[0m\u001b[1;33m\u001b[0m\u001b[0m\n\u001b[0;32m      2\u001b[0m \u001b[1;33m\u001b[0m\u001b[0m\n\u001b[1;32m----> 3\u001b[1;33m \u001b[1;32mif\u001b[0m \u001b[1;36m18.5\u001b[0m \u001b[1;33m<=\u001b[0m \u001b[0mweight\u001b[0m \u001b[1;33m/\u001b[0m \u001b[0mheight\u001b[0m\u001b[1;33m**\u001b[0m\u001b[1;36m2\u001b[0m \u001b[1;33m<\u001b[0m \u001b[1;36m25\u001b[0m\u001b[1;33m:\u001b[0m\u001b[1;33m\u001b[0m\u001b[0m\n\u001b[0m\u001b[0;32m      4\u001b[0m     \u001b[0mprint\u001b[0m\u001b[1;33m(\u001b[0m\u001b[1;34m\"BMI is considered 'normal'\"\u001b[0m\u001b[1;33m)\u001b[0m\u001b[1;33m\u001b[0m\u001b[0m\n\u001b[0;32m      5\u001b[0m \u001b[1;33m\u001b[0m\u001b[0m\n",
      "\u001b[1;31mNameError\u001b[0m: name 'weight' is not defined"
     ]
    }
   ],
   "source": [
    "# 复杂的布尔表达式\n",
    "\n",
    "if 18.5 <= weight / height**2 < 25:\n",
    "    print(\"BMI is considered 'normal'\")\n",
    "\n",
    "if is_raining and is_sunny:\n",
    "    print(\"Is there a rainbow?\")\n",
    "\n",
    "if (not unsubscribed) and (location == \"USA\" or location == \"CAN\"):\n",
    "    print(\"send email\")"
   ]
  },
  {
   "cell_type": "markdown",
   "metadata": {},
   "source": [
    "### 2.2 正反面使用方式\n",
    "- 请勿使用 True 或 False 作为条件\n",
    "- 在使用逻辑运算符编写表达式时，要谨慎\n",
    "- 请勿使用 == True 或 == False 比较布尔变量"
   ]
  },
  {
   "cell_type": "code",
   "execution_count": 13,
   "metadata": {},
   "outputs": [
    {
     "name": "stdout",
     "output_type": "stream",
     "text": [
      "This indented code will always get run.\n"
     ]
    }
   ],
   "source": [
    "# 请勿使用 True 或 False 作为条件\n",
    "# Bad example\n",
    "if True:\n",
    "    print(\"This indented code will always get run.\")"
   ]
  },
  {
   "cell_type": "code",
   "execution_count": 17,
   "metadata": {},
   "outputs": [
    {
     "name": "stdout",
     "output_type": "stream",
     "text": [
      "Wear boots!\n"
     ]
    }
   ],
   "source": [
    "# 在使用逻辑运算符编写表达式时，要谨慎\n",
    "# Bad example\n",
    "weather = 'cold'\n",
    "if weather == \"snow\" or \"rain\":\n",
    "    print(\"Wear boots!\")"
   ]
  },
  {
   "cell_type": "code",
   "execution_count": 20,
   "metadata": {},
   "outputs": [
    {
     "name": "stdout",
     "output_type": "stream",
     "text": [
      "The weather is cold!\n",
      "****************************************\n",
      "The weather is cold!\n"
     ]
    }
   ],
   "source": [
    "# 请勿使用 == True 或 == False 比较布尔变量\n",
    "# Bad example\n",
    "is_cold = True\n",
    "if is_cold == True:\n",
    "    print(\"The weather is cold!\")\n",
    "print('*' * 40)\n",
    "    \n",
    "# Good example\n",
    "if is_cold:\n",
    "    print(\"The weather is cold!\")"
   ]
  },
  {
   "cell_type": "markdown",
   "metadata": {},
   "source": [
    "## 3.For 循环和 While 循环\n",
    "\n",
    "Python 有两种类型的循环：for 循环和 while 循环。**for 循环用来遍历可迭代对象**。\n",
    "\n",
    "**可迭代对象**是**每次**可以返回其中**一个元素**的对象，包括字符串、列表和元组等序列类型，以及字典和文件等非序列类型。"
   ]
  },
  {
   "cell_type": "code",
   "execution_count": 21,
   "metadata": {},
   "outputs": [
    {
     "name": "stdout",
     "output_type": "stream",
     "text": [
      "New York City\n",
      "Mountain View\n",
      "Chicago\n",
      "Los Angeles\n"
     ]
    }
   ],
   "source": [
    "# iterable of cities\n",
    "cities = ['new york city', 'mountain view', 'chicago', 'los angeles']\n",
    "\n",
    "# for loop that iterates over the cities list\n",
    "for city in cities:\n",
    "    print(city.title())"
   ]
  },
  {
   "cell_type": "markdown",
   "metadata": {},
   "source": [
    "### 3.1 For循环的组成\n",
    "- 循环的第一行以关键字 for 开始，表示这是一个 for 循环\n",
    "- 然后是 iteration_variable in iterable，表示正在被遍历的是可迭代的对象，并且用迭代变量表示当前正在被处理的可迭代对象的元素\n",
    "- for 循环头部始终以英文冒号 : 结束\n",
    "- for 循环头部之后的是在此 for 循环的每次迭代时运行的缩进代码块"
   ]
  },
  {
   "cell_type": "code",
   "execution_count": 23,
   "metadata": {},
   "outputs": [
    {
     "name": "stdout",
     "output_type": "stream",
     "text": [
      "New York City\n",
      "Mountain View\n",
      "Chicago\n",
      "Los Angeles\n"
     ]
    }
   ],
   "source": [
    "# iterable of cities\n",
    "cities = ['new york city', 'mountain view', 'chicago', 'los angeles']\n",
    "\n",
    "# for loop that iterates over the cities list\n",
    "for city in cities:\n",
    "    print(city.title())"
   ]
  },
  {
   "cell_type": "markdown",
   "metadata": {},
   "source": [
    "### 3.2 使用for循环创建和修改列表\n",
    "- 如何新建列表？\n",
    "- 如何为列表添加新元素？\n",
    "- 如何使用for循环添加？"
   ]
  },
  {
   "cell_type": "code",
   "execution_count": 25,
   "metadata": {},
   "outputs": [
    {
     "name": "stdout",
     "output_type": "stream",
     "text": [
      "['New York City', 'Mountain View', 'Chicago', 'Los Angeles']\n"
     ]
    }
   ],
   "source": [
    "# Creating a new list\n",
    "cities = ['new york city', 'mountain view', 'chicago', 'los angeles']\n",
    "capitalized_cities = []\n",
    "\n",
    "for city in cities:\n",
    "    capitalized_cities.append(city.title())\n",
    "    \n",
    "print(capitalized_cities)"
   ]
  },
  {
   "cell_type": "markdown",
   "metadata": {},
   "source": [
    "### 3.3 使用range（）函数\n",
    "range() 是一个内置函数，用于创建不可变的数字序列。它有三个参数，必须都为整数。\n",
    "\n",
    "**range(start=0, stop, step=1)**\n",
    "\n",
    "Start是该序列的第一个数字，stop比该序列的最后一个数字大 1，step是该序列中每个数字之间的差，start默认为 0，step 默认为 1\n",
    "\n",
    "- range() 的括号里指定一个参数，它将用作 'stop' 的值\n",
    "- range() 的括号里指定两个参数，它们将用作 'start' 和 'stop' 的值，'step' 将使用默认值\n",
    "- 三个参数 'start、stop' 和 'step' 均指定一个值。 E.g. list(range(1, 10, 2)) 返回 [1, 3, 5, 7, 9]\n",
    "\n",
    "*经常使用 range 和 for 循环重复某个操作一定的次数"
   ]
  },
  {
   "cell_type": "code",
   "execution_count": 40,
   "metadata": {},
   "outputs": [
    {
     "name": "stdout",
     "output_type": "stream",
     "text": [
      "['New York City', 'Mountain View', 'Chicago', 'Los Angeles']\n"
     ]
    }
   ],
   "source": [
    "cities = ['new york city', 'mountain view', 'chicago', 'los angeles']\n",
    "\n",
    "for index in range(len(cities)):\n",
    "    cities[index] = cities[index].title()\n",
    "    \n",
    "print(cities)"
   ]
  },
  {
   "cell_type": "markdown",
   "metadata": {},
   "source": [
    "**for 循环练习中：lower（）和replace（）的使用，可以搜索菜鸟教程，写的十分详细。**"
   ]
  },
  {
   "cell_type": "code",
   "execution_count": 41,
   "metadata": {},
   "outputs": [
    {
     "name": "stdout",
     "output_type": "stream",
     "text": [
      "['joey_tribbiani', 'monica_geller', 'chandler_bing', 'phoebe_buffay']\n"
     ]
    }
   ],
   "source": [
    "names = [\"Joey Tribbiani\", \"Monica Geller\", \"Chandler Bing\", \"Phoebe Buffay\"]\n",
    "usernames = []\n",
    "\n",
    "# write your for loop here\n",
    "for name in names:\n",
    "    usernames.append(name.lower().replace(\" \", \"_\"))\n",
    "\n",
    "print(usernames)"
   ]
  },
  {
   "cell_type": "markdown",
   "metadata": {},
   "source": [
    "### 3.4 while循环\n",
    "For 循环是一种“有限迭代”，意味着循环主体将运行**预定义的次数**。\n",
    "\n",
    "while 循环是“无限迭代”循环，循环重复**未知次数**，并在**满足某个条件**时结束。"
   ]
  },
  {
   "cell_type": "code",
   "execution_count": 42,
   "metadata": {},
   "outputs": [
    {
     "name": "stdout",
     "output_type": "stream",
     "text": [
      "[10]\n",
      "[10, 8]\n"
     ]
    }
   ],
   "source": [
    "card_deck = [4, 11, 8, 5, 13, 2, 8, 10]\n",
    "hand = []\n",
    "\n",
    "# adds the last element of the card_deck list to the hand list\n",
    "# until the values in hand add up to 17 or more\n",
    "while sum(hand)  <= 17:\n",
    "    hand.append(card_deck.pop())\n",
    "    print(hand)"
   ]
  },
  {
   "cell_type": "markdown",
   "metadata": {},
   "source": [
    "**While 循环的组成部分**\n",
    "- 第一行以关键字 while 开始，表示这是一个 while 循环。\n",
    "- 然后是要检查的条件。在此示例中是 sum(hand) <= 17。\n",
    "- while 循环头部始终以冒号 : 结束。\n",
    "- 该头部之后的缩进部分是 while 循环的主体。如果 while 循环的条件为 true，该循环的主体将被执行。每次运行循环主体时，条件将被重新评估。这个检查条件然后运行循环的流程将重复，直到该表达式变成 false。"
   ]
  },
  {
   "cell_type": "code",
   "execution_count": 43,
   "metadata": {},
   "outputs": [
    {
     "name": "stdout",
     "output_type": "stream",
     "text": [
      "36\n"
     ]
    }
   ],
   "source": [
    "limit = 40\n",
    "i = 0\n",
    "nearest_square_true = 0\n",
    "\n",
    "# write your while loop here\n",
    "while(nearest_square_true <=limit):\n",
    "    i += 1\n",
    "    nearest_square_true = i ** 2\n",
    "    nearest_square = (i-1) **2\n",
    "\n",
    "print(nearest_square)"
   ]
  },
  {
   "cell_type": "markdown",
   "metadata": {},
   "source": [
    "## 4 Break、Continue语句\n",
    "作用：精准地控制何时循环应该结束，或者跳过某个迭代\n",
    "\n",
    "- break 使循环终止\n",
    "- continue 跳过循环的一次迭代"
   ]
  },
  {
   "cell_type": "code",
   "execution_count": 44,
   "metadata": {
    "collapsed": true
   },
   "outputs": [
    {
     "name": "stdout",
     "output_type": "stream",
     "text": [
      "METHOD 1\n",
      "current weight: 0\n",
      "  adding bananas (15)\n",
      "current weight: 15\n",
      "  adding mattresses (24)\n",
      "current weight: 39\n",
      "  adding dog kennels (42)\n",
      "current weight: 81\n",
      "  adding machine (120)\n",
      "current weight: 201\n",
      "  breaking loop now!\n",
      "\n",
      "Final Weight: 201\n",
      "Final Items: ['bananas', 'mattresses', 'dog kennels', 'machine']\n",
      "\n",
      "METHOD 2\n",
      "current weight: 0\n",
      "  adding bananas (15)\n",
      "current weight: 15\n",
      "  adding mattresses (24)\n",
      "current weight: 39\n",
      "  adding dog kennels (42)\n",
      "current weight: 81\n",
      "  skipping machine (120)\n",
      "current weight: 81\n",
      "  adding cheeses (5)\n",
      "\n",
      "Final Weight: 86\n",
      "Final Items: ['bananas', 'mattresses', 'dog kennels', 'cheeses']\n"
     ]
    }
   ],
   "source": [
    "manifest = [(\"bananas\", 15), (\"mattresses\", 24), (\"dog kennels\", 42), (\"machine\", 120), (\"cheeses\", 5)]\n",
    "\n",
    "# breaks from the loop when weight reaches or exceeds limit\n",
    "print(\"METHOD 1\")\n",
    "weight = 0\n",
    "items = []\n",
    "for cargo_name, cargo_weight in manifest:\n",
    "    print(\"current weight: {}\".format(weight))\n",
    "    if weight >= 100:\n",
    "        print(\"  breaking loop now!\")\n",
    "        break\n",
    "    else:\n",
    "        print(\"  adding {} ({})\".format(cargo_name, cargo_weight))\n",
    "        items.append(cargo_name)\n",
    "        weight += cargo_weight\n",
    "\n",
    "print(\"\\nFinal Weight: {}\".format(weight))\n",
    "print(\"Final Items: {}\".format(items))\n",
    "\n",
    "# skips an iteration when adding an item would make weight exceed limit\n",
    "# breaks from the loop if weight reaches exactly the limit\n",
    "print(\"\\nMETHOD 2\")\n",
    "weight = 0\n",
    "items = []\n",
    "for cargo_name, cargo_weight in manifest:\n",
    "    print(\"current weight: {}\".format(weight))\n",
    "    if weight >= 100:\n",
    "        print(\"  breaking from the loop now!\")\n",
    "        break\n",
    "    elif weight + cargo_weight > 100:\n",
    "        print(\"  skipping {} ({})\".format(cargo_name, cargo_weight))\n",
    "        continue\n",
    "    else:\n",
    "        print(\"  adding {} ({})\".format(cargo_name, cargo_weight))\n",
    "        items.append(cargo_name)\n",
    "        weight += cargo_weight\n",
    "\n",
    "print(\"\\nFinal Weight: {}\".format(weight))\n",
    "print(\"Final Items: {}\".format(items))"
   ]
  },
  {
   "cell_type": "markdown",
   "metadata": {},
   "source": [
    "## 5 Zip 和 Enumerate\n",
    "zip 和 enumerate 是实用的内置函数，可以在处理循环时用到\n",
    "\n",
    "- zip 返回一个将多个可迭代对象组合成一个元组序列的迭代器。每个元组都包含所有可迭代对象中该位置的元素\n",
    "- enumerate 是一个会返回元组迭代器的内置函数，这些元组包含列表的索引和值。当你需要在循环中获取可迭代对象的每个元素及其索引时，将经常用到该函数"
   ]
  },
  {
   "cell_type": "code",
   "execution_count": 49,
   "metadata": {},
   "outputs": [
    {
     "name": "stdout",
     "output_type": "stream",
     "text": [
      "a: 1\n",
      "b: 2\n",
      "c: 3\n",
      "****************************************\n",
      "('a', 'b', 'c')\n",
      "(1, 2, 3)\n",
      "****************************************\n",
      "0 a\n",
      "1 b\n",
      "2 c\n",
      "3 d\n",
      "4 e\n"
     ]
    }
   ],
   "source": [
    "# zip使用示例-压缩\n",
    "letters = ['a', 'b', 'c']\n",
    "nums = [1, 2, 3]\n",
    "\n",
    "for letter, num in zip(letters, nums):\n",
    "    print(\"{}: {}\".format(letter, num))\n",
    "print('*' * 40)\n",
    "\n",
    "# zip使用方法-解压\n",
    "some_list = [('a', 1), ('b', 2), ('c', 3)]\n",
    "letters, nums = zip(*some_list)\n",
    "print(letters)\n",
    "print(nums)\n",
    "    \n",
    "print('*' * 40)\n",
    "\n",
    "# Enumerate使用示例\n",
    "letters = ['a', 'b', 'c', 'd', 'e']\n",
    "for i, letter in enumerate(letters):\n",
    "    print(i, letter)"
   ]
  },
  {
   "cell_type": "markdown",
   "metadata": {},
   "source": [
    "### 课后练习\n",
    "**1.练习：组合坐标**"
   ]
  },
  {
   "cell_type": "code",
   "execution_count": 54,
   "metadata": {
    "scrolled": true
   },
   "outputs": [
    {
     "name": "stdout",
     "output_type": "stream",
     "text": [
      "F: 23,677,4\n",
      "J: 53,233,16\n",
      "A: 2,405,-6\n",
      "Q: -12,433,-42\n",
      "Y: 95,905,3\n",
      "B: 103,376,-6\n",
      "W: 14,432,23\n",
      "X: -5,445,-1\n"
     ]
    }
   ],
   "source": [
    "#练习：组合坐标\n",
    "\n",
    "x_coord = [23, 53, 2, -12, 95, 103, 14, -5]\n",
    "y_coord = [677, 233, 405, 433, 905, 376, 432, 445]\n",
    "z_coord = [4, 16, -6, -42, 3, -6, 23, -1]\n",
    "labels = [\"F\", \"J\", \"A\", \"Q\", \"Y\", \"B\", \"W\", \"X\"]\n",
    "\n",
    "points = []\n",
    "\n",
    "for label,x,y,z in zip(labels,x_coord,y_coord,z_coord):\n",
    "    points.append(\"{}: {},{},{}\".format(label,x,y,z))\n",
    "\n",
    "for point in points:\n",
    "    print(point)"
   ]
  },
  {
   "cell_type": "markdown",
   "metadata": {},
   "source": [
    "**2.练习：矩阵转置**"
   ]
  },
  {
   "cell_type": "code",
   "execution_count": 59,
   "metadata": {},
   "outputs": [
    {
     "name": "stdout",
     "output_type": "stream",
     "text": [
      "((0, 1, 2), (3, 4, 5), (6, 7, 8), (9, 10, 11))\n",
      "((0, 3, 6, 9), (1, 4, 7, 10), (2, 5, 8, 11))\n"
     ]
    }
   ],
   "source": [
    "data = ((0, 1, 2), (3, 4, 5), (6, 7, 8), (9, 10, 11))\n",
    "print(data)\n",
    "\n",
    "data_transpose = tuple(zip(*data))\n",
    "print(data_transpose)"
   ]
  },
  {
   "cell_type": "markdown",
   "metadata": {},
   "source": [
    "**3.练习：Enumerate使用方法**"
   ]
  },
  {
   "cell_type": "code",
   "execution_count": 60,
   "metadata": {},
   "outputs": [
    {
     "name": "stdout",
     "output_type": "stream",
     "text": [
      "['Barney Stinson 72', 'Robin Scherbatsky 68', 'Ted Mosby 72', 'Lily Aldrin 66', 'Marshall Eriksen 76']\n"
     ]
    }
   ],
   "source": [
    "cast = [\"Barney Stinson\", \"Robin Scherbatsky\", \"Ted Mosby\", \"Lily Aldrin\", \"Marshall Eriksen\"]\n",
    "heights = [72, 68, 72, 66, 76]\n",
    "\n",
    "for i, character in enumerate(cast):\n",
    "    cast[i] = character + \" \" + str(heights[i])\n",
    "\n",
    "print(cast)"
   ]
  },
  {
   "cell_type": "markdown",
   "metadata": {},
   "source": [
    "**4.字典快速构建**"
   ]
  },
  {
   "cell_type": "code",
   "execution_count": 73,
   "metadata": {},
   "outputs": [
    {
     "name": "stdout",
     "output_type": "stream",
     "text": [
      "{0: 23, 1: 53, 2: 2, 3: -12, 4: 95, 5: 103, 6: 14, 7: -5}\n",
      "{23: 677, 53: 233, 2: 405, -12: 433, 95: 905, 103: 376, 14: 432, -5: 445}\n",
      "{'a': 1, 'b': 2, 'c': 3}\n"
     ]
    }
   ],
   "source": [
    "x_coord = [23, 53, 2, -12, 95, 103, 14, -5]\n",
    "y_coord = [677, 233, 405, 433, 905, 376, 432, 445]\n",
    "z_coord = [4, 16, -6, -42, 3, -6, 23, -1]\n",
    "labels = [\"F\", \"J\", \"A\", \"Q\", \"Y\", \"B\", \"W\", \"X\"]\n",
    "\n",
    "# 第一种方法，用Enumerate，key为索引值\n",
    "a = dict(enumerate(x_coord))\n",
    "print(a)\n",
    "\n",
    "# 第二种方式，用zip,灵活调整key和value\n",
    "b = dict(zip(x_coord, y_coord))\n",
    "print(b)\n",
    "\n",
    "# 第三种方式，用*zip构成\n",
    "c = {}\n",
    "some_list = [('a', 1), ('b', 2), ('c', 3)]\n",
    "#letters, nums = zip(*some_list)\n",
    "for letter, num in some_list:\n",
    "    c[letter] = num\n",
    "print(c)"
   ]
  },
  {
   "cell_type": "markdown",
   "metadata": {},
   "source": [
    "## 6. 列表推导式"
   ]
  },
  {
   "cell_type": "code",
   "execution_count": 74,
   "metadata": {},
   "outputs": [
    {
     "name": "stdout",
     "output_type": "stream",
     "text": [
      "['New York City', 'Mountain View', 'Chicago', 'Los Angeles']\n",
      "****************************************\n",
      "['New York City', 'Mountain View', 'Chicago', 'Los Angeles']\n"
     ]
    }
   ],
   "source": [
    "cities = ['new york city', 'mountain view', 'chicago', 'los angeles']\n",
    "capitalized_cities = []\n",
    "for city in cities:\n",
    "    capitalized_cities.append(city.title())\n",
    "print(capitalized_cities)\n",
    "print('*' * 40)\n",
    "\n",
    "print([city.title() for city in cities])"
   ]
  },
  {
   "cell_type": "markdown",
   "metadata": {},
   "source": [
    "### 列表推导式中的条件语句\n",
    "- 列表推导式中加入循环条件判断语句\n",
    "- 列表推导式中加入循环和多个条件语句\n",
    "- 列表推导式中加入判断和循环语句"
   ]
  },
  {
   "cell_type": "code",
   "execution_count": 75,
   "metadata": {
    "collapsed": true
   },
   "outputs": [
    {
     "ename": "SyntaxError",
     "evalue": "invalid syntax (<ipython-input-75-5964812b0d00>, line 3)",
     "output_type": "error",
     "traceback": [
      "\u001b[1;36m  File \u001b[1;32m\"<ipython-input-75-5964812b0d00>\"\u001b[1;36m, line \u001b[1;32m3\u001b[0m\n\u001b[1;33m    squares2 = [x**2 for x in range(9) if x % 2 == 0 else x + 3]\u001b[0m\n\u001b[1;37m                                                        ^\u001b[0m\n\u001b[1;31mSyntaxError\u001b[0m\u001b[1;31m:\u001b[0m invalid syntax\n"
     ]
    }
   ],
   "source": [
    "squares1 = [x**2 for x in range(9) if x % 2 == 0]\n",
    "\n",
    "squares2 = [x**2 for x in range(9) if x % 2 == 0 else x + 3]\n",
    "\n",
    "squares3 = [x**2 if x % 2 == 0 else x + 3 for x in range(9)]"
   ]
  },
  {
   "cell_type": "markdown",
   "metadata": {},
   "source": [
    "# 总结\n",
    "1.条件语句如何写？什么情况下使用？目的是什么？\n",
    "\n",
    "**清楚规范写法，注意段落缩进；条件语句目的是进行数据筛选；**\n",
    "\n",
    "2.布尔表达式：布尔操作运算方法，规范写法，如何使用？\n",
    "\n",
    "**布尔操作运算方法，规范写法，一般用作筛选的条件判据**\n",
    "\n",
    "3.For 和 While 循环：两者的联系和区别，各自特点，如何使用？\n",
    "\n",
    "**For循环，有限次循环，常与range()一起使用，熟悉使用方法，深入了解多层for循环使用方法**\n",
    "**while循环，无限次循环，使用时需要加入条件判断语句**\n",
    "\n",
    "4.Break 和 Continue\n",
    "\n",
    "**用作继续或者中断操作，常与if条件语句连用**\n",
    "\n",
    "5.Zip 和 Enumerate\n",
    "\n",
    "**zip和enumerate功能强大，可快速解析或者压缩，对于多个成对的数据操作效率极高**\n",
    "\n",
    "6.列表推导式\n",
    "\n",
    "**简洁的得到需要列表，python的特点体现**\n"
   ]
  }
 ],
 "metadata": {
  "kernelspec": {
   "display_name": "Python 3",
   "language": "python",
   "name": "python3"
  },
  "language_info": {
   "codemirror_mode": {
    "name": "ipython",
    "version": 3
   },
   "file_extension": ".py",
   "mimetype": "text/x-python",
   "name": "python",
   "nbconvert_exporter": "python",
   "pygments_lexer": "ipython3",
   "version": "3.6.4"
  }
 },
 "nbformat": 4,
 "nbformat_minor": 2
}
