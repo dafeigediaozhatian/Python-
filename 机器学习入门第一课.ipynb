{
 "cells": [
  {
   "cell_type": "markdown",
   "metadata": {},
   "source": [
    "# Udacity第一课（数据类型/运算符，数据结构）"
   ]
  },
  {
   "cell_type": "markdown",
   "metadata": {},
   "source": [
    "## 第一节：数据类型/运算符\n",
    "知识点：\n",
    "- 类型：数值（整型/浮点），布尔型，字符串\n",
    "- 运算方法：算数，赋值，布尔运算，比较运算，逻辑运算"
   ]
  },
  {
   "cell_type": "markdown",
   "metadata": {},
   "source": [
    "### 数据类型：数值，布尔，字符串\n",
    "- 数值：int型和float型，使用方式十分简单，主要用于数值计算，需要注意int型和float型的转换。\n",
    "- 布尔：True和False，一般情况用于作为判断标识符，在比较和逻辑运算时出现。\n",
    "- 字符串：格式为“str”，字符串可进行加和乘的操作，也可以索引和切片，但其中内容不可变。\n",
    "\n",
    "- 类型：使用type（）可以查看变量类型，需注意不同类型间不一定能进行算数操作，比如int和str是不能进行运算的，但int和float可以，最后结果转化为float，大家可以尝试下其他方式。\n",
    "- 书写方式：在最初学习时养成良好的书写习惯是非常重要的，大家可以看看《数据类型与运算符》中第7小节课中的“python最佳做法”PEP8指南，了解书写python的规范"
   ]
  },
  {
   "cell_type": "code",
   "execution_count": 1,
   "metadata": {},
   "outputs": [
    {
     "name": "stdout",
     "output_type": "stream",
     "text": [
      "10\n"
     ]
    }
   ],
   "source": [
    "a = 5\n",
    "b = 4.8\n",
    "c = False\n",
    "d = 'i love python'\n",
    "e = 3\n",
    "\n",
    "# 数值型及其操作(关键点)\n",
    "A = a + 5  # 和 a += 5 等效\n",
    "print(A)"
   ]
  },
  {
   "cell_type": "code",
   "execution_count": 2,
   "metadata": {},
   "outputs": [
    {
     "name": "stdout",
     "output_type": "stream",
     "text": [
      "9.8\n"
     ]
    }
   ],
   "source": [
    "B = b + a  #  float和int相加\n",
    "print(B)"
   ]
  },
  {
   "cell_type": "code",
   "execution_count": 3,
   "metadata": {},
   "outputs": [
    {
     "name": "stdout",
     "output_type": "stream",
     "text": [
      "1.6666666666666667\n",
      "1\n",
      "2\n"
     ]
    }
   ],
   "source": [
    "C = a/e    # 分清楚/，//，% 的区别\n",
    "D = a//e\n",
    "E = a % e\n",
    "print(C)\n",
    "print(D)\n",
    "print(E)"
   ]
  },
  {
   "cell_type": "code",
   "execution_count": 4,
   "metadata": {},
   "outputs": [
    {
     "name": "stdout",
     "output_type": "stream",
     "text": [
      " l\n",
      "i love python, and you? \n",
      "****************************************\n",
      "39\n",
      "****************************************\n",
      "<class 'str'>\n"
     ]
    }
   ],
   "source": [
    "F = d[1:3] # 字符串的加/乘操作和切片索引\n",
    "G = d + ', and you? '\n",
    "H = d * 3\n",
    "\n",
    "print(F)\n",
    "print(G)\n",
    "print('*' * 40)\n",
    "print(len(H))  # len()计算字符串长度\n",
    "print('*' * 40)\n",
    "\n",
    "print(type(H)) # type()的使用"
   ]
  },
  {
   "cell_type": "markdown",
   "metadata": {},
   "source": [
    "## 第二节：数据结构\n",
    "知识点：\n",
    "- 数据结构:列表，字典，元组，集合，复合数据结构"
   ]
  },
  {
   "cell_type": "markdown",
   "metadata": {},
   "source": [
    "数据结构：\n",
    "- 列表（list）：有序可变，可切片索引，可嵌套其他类型数据。列表常用方法：join，append，len,max,min\n",
    "- 字典（dict）：无序可变，数据为键值对应（key：value），key为不可变类型数据，value为可变数据类型。\n",
    "- 元组（tuple）：有序不可变，可以切片索引,元组解包。\n",
    "- 集合（set）：唯一元素，无序可变，使用add添加新元素，pop随机删除一个元素\n",
    "- 复合数据结构：一般是字典中嵌套其他类型，更方便构建和调用数据集；也可以在列表中嵌套字典或者元组。复合数据结构的构造是根据数据本身的特性和使用方式的特点来选择合适的数据结构。在调用内部元素时先从最外部数据类型一一往内部分析，使用正确的调用方式即可。"
   ]
  },
  {
   "cell_type": "code",
   "execution_count": 5,
   "metadata": {},
   "outputs": [
    {
     "name": "stdout",
     "output_type": "stream",
     "text": [
      "[1, 2, 3, 4, 5, 6]\n",
      "****************************************\n",
      "1\n",
      "2\n",
      "3\n",
      "****************************************\n",
      "列表长度为：6\n",
      "列表最大值为：6\n",
      "列表最小值为：1\n"
     ]
    }
   ],
   "source": [
    "# 列表\n",
    "list1 = [1, 2, 3, 4, 5]\n",
    "\n",
    "list1.append(6)                       # 使用append添加元素\n",
    "list2 = '\\n'.join(['1', '2', '3'])    # 列表中使用join时，列表中需使用字符串类型变量\n",
    "\n",
    "print(list1)\n",
    "print('*' * 40)\n",
    "print(list2)\n",
    "print('*' * 40)\n",
    "print(\"列表长度为：%d\" % len(list1))\n",
    "print(\"列表最大值为：%d\" % max(list1))\n",
    "print(\"列表最小值为：%d\" % min(list1))"
   ]
  },
  {
   "cell_type": "code",
   "execution_count": 6,
   "metadata": {},
   "outputs": [
    {
     "name": "stdout",
     "output_type": "stream",
     "text": [
      "{'s': 'small', 'm': 'middle', 'l': 'large', 'xl': 'x_large'}\n",
      "****************************************\n",
      "m对应取值为： middle\n",
      "****************************************\n",
      "True\n"
     ]
    }
   ],
   "source": [
    "# 字典\n",
    "dict1 = {'s' : 'small', 'm' : 'middle' , 'l' : 'large'}\n",
    "\n",
    "dict1['xl'] = 'x_large'         # 插入新的元素\n",
    "\n",
    "print(dict1)\n",
    "print('*' * 40)\n",
    "\n",
    "print('m对应取值为： ' + dict1.get('m'))           # 查询字典中key对应的value\n",
    "print('*' * 40)\n",
    "\n",
    "print('s' in dict1)             # 判断元素是否在字典中"
   ]
  },
  {
   "cell_type": "code",
   "execution_count": 7,
   "metadata": {},
   "outputs": [
    {
     "name": "stdout",
     "output_type": "stream",
     "text": [
      "my result is 6 and 6 and 6\n",
      "****************************************\n",
      "my result is 6 and 6 and 6\n",
      "****************************************\n",
      "(2, 3, 4)\n"
     ]
    }
   ],
   "source": [
    "# 元组\n",
    "tuple1 = (1, 2, 3, 4, 5)\n",
    "a, b, c = '6', '6', '6'             # 元组解包\n",
    "\n",
    "print('my result is {} and {} and {}'.format(a, b, c))  # print输出多变量方式1\n",
    "print('*' * 40)\n",
    "print('my result is %s and %s and %s' % (a, b, c))      # print输出多变量方式2\n",
    "\n",
    "#大家思考下这两种方式有什么好处和缺陷，什么时候用哪种方式更方便？\n",
    "print('*' * 40)\n",
    "\n",
    "print(tuple1[1:-1])"
   ]
  },
  {
   "cell_type": "code",
   "execution_count": 8,
   "metadata": {},
   "outputs": [
    {
     "name": "stdout",
     "output_type": "stream",
     "text": [
      "{2, 3, 5}\n",
      "****************************************\n",
      "False\n"
     ]
    }
   ],
   "source": [
    "# 集合\n",
    "set1 = {1, 3, 2, 5, 2, 3}\n",
    "\n",
    "set1.add(3)    # 添加元素\n",
    "set1.pop()     # 随机删除一个元素\n",
    "\n",
    "print(set1)\n",
    "print('*' * 40)\n",
    "print('1' in set1)   # 判断某一元素是否在集合中"
   ]
  },
  {
   "cell_type": "code",
   "execution_count": 53,
   "metadata": {},
   "outputs": [
    {
     "name": "stdout",
     "output_type": "stream",
     "text": [
      "复合数据结构添加元素后为:  {'hydrogen': {'number': 1, 'weight': 1.00794, 'symbol': 'H'}, 'helium': {'number': 2, 'weight': 4.002602, 'symbol': 'He'}, 'nothing': {'number': 3, 'weight': 0, 'symbol': 'N'}}\n",
      "****************************************\n",
      "2\n",
      "****************************************\n",
      "某一元素是否在复合数据结构中： True\n"
     ]
    }
   ],
   "source": [
    "# 复合数据结构1\n",
    "elements = {\"hydrogen\": {\"number\": 1,\n",
    "                         \"weight\": 1.00794,\n",
    "                         \"symbol\": \"H\"},\n",
    "              \"helium\": {\"number\": 2,\n",
    "                         \"weight\": 4.002602,\n",
    "                         \"symbol\": \"He\"}}\n",
    "\n",
    "#添加元素(先观察最外层结构是什么数据结构，然后逐层梳理，最后确定调用方法，比如本例中使用字典嵌套字典，均使用字典的调用/插入等方法即可)\n",
    "elements['nothing'] = {\"number\": 3,\n",
    "                         \"weight\": 0,\n",
    "                         \"symbol\": \"N\"}\n",
    "print('复合数据结构添加元素后为: ', elements)\n",
    "print('*' * 40)\n",
    "\n",
    "#提取某一元素\n",
    "element = elements['helium']['number']     # 按照对应数据结构提取\n",
    "print(element)\n",
    "print('*' * 40)\n",
    "\n",
    "#查询，判断\n",
    "print('某一元素是否在复合数据结构中：', 'nothing' in elements)\n"
   ]
  },
  {
   "cell_type": "code",
   "execution_count": 9,
   "metadata": {},
   "outputs": [
    {
     "name": "stdout",
     "output_type": "stream",
     "text": [
      "新的复合数据结构为：  ['hydrogen', {'number': 1, 'weight': 1.00794, 'symbol': 'H'}, 'helium', {'number': 2, 'weight': 4.002602, 'symbol': 'He'}, {'number': 3, 'weight': 0, 'symbol': 'N'}]\n",
      "****************************************\n",
      "查找到的元素结果为： 4.002602\n",
      "****************************************\n",
      "某一元素是否在复合数据结构中： False\n"
     ]
    }
   ],
   "source": [
    "# 复合数据结构2（列表中嵌套字典）\n",
    "elements = [\"hydrogen\", {\"number\": 1,\"weight\": 1.00794,\"symbol\": \"H\"},\"helium\", {\"number\": 2,\"weight\": 4.002602,\"symbol\": \"He\"}]\n",
    "\n",
    "#添加元素(先观察最外层结构是什么数据结构，然后逐层梳理，最后确定调用方法，比如本例中使用字典嵌套字典，均使用字典的调用/插入等方法即可)\n",
    "elements.append({\"number\": 3, \"weight\": 0, \"symbol\": \"N\"})\n",
    "print('新的复合数据结构为： ', elements)\n",
    "print('*' * 40)\n",
    "\n",
    "#提取某一元素,例如  weight:4.002620\n",
    "print('查找到的元素结果为：', elements[3]['weight'])\n",
    "print('*' * 40)\n",
    "\n",
    "#查询，判断, 若直接去搜索’symbol‘会返回false，因为其元素嵌套在字典中，列表在搜索中只查询主结构元素\n",
    "print('某一元素是否在复合数据结构中：', 'symbol' in elements)"
   ]
  },
  {
   "cell_type": "markdown",
   "metadata": {},
   "source": [
    "## 总结：\n",
    "- 变量的概念和使用\n",
    "- 有哪些变量？（整型，浮点，布尔，字符串）\n",
    "- 算数操作（标准书写方法，如何使用，有些相似方法（**分清楚/，//，% 的区别**),逻辑运算，布尔运算，恒等和相等！\n",
    "- 数据结构有哪几大类？（list，dict，set，tuple，复合结构\n",
    "- list的特点和用法（可变有序，添加append，索引切片，len，max，min，sorted）\n",
    "- dict特点和用法（无序可变，添加方法，查找方法：get，查询方法：element in dict）\n",
    "- set特点和用法（无序可变且唯一，添加add，随机删除pop，查询方法同上）\n",
    "- tuple特点和用法（有序不可变，元组解包如何使用？索引切片）\n",
    "\n",
    "- 复合结构如何分析？（由外到内，逐层分解其数据构成，技巧：方括号是列表，花括号可能是字典或者集合，看内部有无冒号（即是否存在键值对应，元括号是元组，只要掌握基本数据结构的用法，复合结构也就使用起来清晰了！"
   ]
  },
  {
   "cell_type": "markdown",
   "metadata": {},
   "source": [
    "## 课后题问：\n",
    "\n",
    "- 有列表这么强大的数据结构，为何还需要字典/集合/元组等数据结构？可变不可变会在什么时候用到？\n",
    "- 除了常用到的len，min，max，sorted，还有哪些常见的使用语句？\n",
    "（建议大家多去网上查阅资料，慢慢的你就轻车熟路了）"
   ]
  }
 ],
 "metadata": {
  "kernelspec": {
   "display_name": "Python 3",
   "language": "python",
   "name": "python3"
  },
  "language_info": {
   "codemirror_mode": {
    "name": "ipython",
    "version": 3
   },
   "file_extension": ".py",
   "mimetype": "text/x-python",
   "name": "python",
   "nbconvert_exporter": "python",
   "pygments_lexer": "ipython3",
   "version": "3.6.4"
  }
 },
 "nbformat": 4,
 "nbformat_minor": 2
}
